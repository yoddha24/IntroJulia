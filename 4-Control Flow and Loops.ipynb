{
 "cells": [
  {
   "cell_type": "markdown",
   "metadata": {},
   "source": [
    "# Control flow and Loops"
   ]
  },
  {
   "cell_type": "markdown",
   "metadata": {},
   "source": [
    "Dr. Sandeep Nagar, $3^{rd}$ September $2017$, e-mail: sandeep.nagar@gmail.com"
   ]
  },
  {
   "cell_type": "markdown",
   "metadata": {},
   "source": [
    "## Ternary expression"
   ]
  },
  {
   "cell_type": "code",
   "execution_count": 1,
   "metadata": {},
   "outputs": [
    {
     "data": {
      "text/plain": [
       "5-element Array{Float64,1}:\n",
       " 1.0    \n",
       " 1.41421\n",
       " 1.73205\n",
       " 2.0    \n",
       " 2.23607"
      ]
     },
     "execution_count": 1,
     "metadata": {},
     "output_type": "execute_result"
    }
   ],
   "source": [
    "a = [1,2,3,4,5]\n",
    "length(a)<3 ? a.^2 : sqrt.(a)"
   ]
  },
  {
   "cell_type": "markdown",
   "metadata": {},
   "source": [
    "## if-else"
   ]
  },
  {
   "cell_type": "code",
   "execution_count": 2,
   "metadata": {},
   "outputs": [
    {
     "data": {
      "text/plain": [
       "el_type (generic function with 1 method)"
      ]
     },
     "execution_count": 2,
     "metadata": {},
     "output_type": "execute_result"
    }
   ],
   "source": [
    "function el_type(a) \n",
    "    if eltype(a)==Int64\n",
    "        println(\"$a is an integer\")\n",
    "    else\n",
    "        println(\"$a is a float\")\n",
    "    end\n",
    "end"
   ]
  },
  {
   "cell_type": "code",
   "execution_count": 3,
   "metadata": {},
   "outputs": [
    {
     "name": "stdout",
     "output_type": "stream",
     "text": [
      "2 is an integer\n"
     ]
    }
   ],
   "source": [
    "el_type(2)"
   ]
  },
  {
   "cell_type": "code",
   "execution_count": 4,
   "metadata": {},
   "outputs": [
    {
     "name": "stdout",
     "output_type": "stream",
     "text": [
      "2.0 is a float\n"
     ]
    }
   ],
   "source": [
    "el_type(2.0)"
   ]
  },
  {
   "cell_type": "markdown",
   "metadata": {},
   "source": [
    "Improve the code using `elseif`"
   ]
  },
  {
   "cell_type": "code",
   "execution_count": 5,
   "metadata": {},
   "outputs": [
    {
     "data": {
      "text/plain": [
       "el_type (generic function with 1 method)"
      ]
     },
     "execution_count": 5,
     "metadata": {},
     "output_type": "execute_result"
    }
   ],
   "source": [
    "function el_type(a) \n",
    "    if eltype(a)==Int64\n",
    "        println(\"$a is an integer\") \n",
    "    elseif eltype(a)==Complex64\n",
    "        println(\"$a is a complex number\")\n",
    "    else\n",
    "        println(\"$a is a float\")\n",
    "    end\n",
    "end\n",
    "\n"
   ]
  },
  {
   "cell_type": "code",
   "execution_count": 8,
   "metadata": {},
   "outputs": [
    {
     "data": {
      "text/plain": [
       "2.0f0 + 3.0f0im"
      ]
     },
     "execution_count": 8,
     "metadata": {},
     "output_type": "execute_result"
    }
   ],
   "source": [
    "A = Complex64(2,3)"
   ]
  },
  {
   "cell_type": "code",
   "execution_count": 9,
   "metadata": {},
   "outputs": [
    {
     "name": "stdout",
     "output_type": "stream",
     "text": [
      "2.0f0 + 3.0f0im is a complex number\n"
     ]
    }
   ],
   "source": [
    "el_type(A)"
   ]
  },
  {
   "cell_type": "code",
   "execution_count": 10,
   "metadata": {},
   "outputs": [
    {
     "name": "stdout",
     "output_type": "stream",
     "text": [
      "2 is an integer\n"
     ]
    }
   ],
   "source": [
    "el_type(2)"
   ]
  },
  {
   "cell_type": "code",
   "execution_count": 11,
   "metadata": {},
   "outputs": [
    {
     "name": "stdout",
     "output_type": "stream",
     "text": [
      "2.0 is a float\n"
     ]
    }
   ],
   "source": [
    "el_type(2.0)"
   ]
  },
  {
   "cell_type": "markdown",
   "metadata": {},
   "source": [
    "## for"
   ]
  },
  {
   "cell_type": "code",
   "execution_count": 12,
   "metadata": {},
   "outputs": [
    {
     "data": {
      "text/plain": [
       "3-element Array{Int64,1}:\n",
       " 1\n",
       " 2\n",
       " 3"
      ]
     },
     "execution_count": 12,
     "metadata": {},
     "output_type": "execute_result"
    }
   ],
   "source": [
    "a = [1,2,3]"
   ]
  },
  {
   "cell_type": "code",
   "execution_count": 16,
   "metadata": {},
   "outputs": [
    {
     "name": "stdout",
     "output_type": "stream",
     "text": [
      "1\n",
      "4\n",
      "9\n"
     ]
    }
   ],
   "source": [
    "for i in a\n",
    "    answer=a[i].^2\n",
    "    print(\"$answer\\n\")\n",
    "end"
   ]
  },
  {
   "cell_type": "code",
   "execution_count": 17,
   "metadata": {},
   "outputs": [
    {
     "name": "stdout",
     "output_type": "stream",
     "text": [
      "Odd \n",
      "Even \n",
      "Odd \n",
      "Even \n",
      "Odd \n",
      "Even \n",
      "Odd \n",
      "Even \n",
      "Odd \n",
      "Even \n"
     ]
    }
   ],
   "source": [
    "a=1:10\n",
    "for i in a \n",
    "    if isodd(i)\n",
    "        print(\"Odd \\n\")\n",
    "    else\n",
    "        print(\"Even \\n\")\n",
    "    end \n",
    "end"
   ]
  },
  {
   "cell_type": "markdown",
   "metadata": {},
   "source": [
    " ## Comprehensions"
   ]
  },
  {
   "cell_type": "code",
   "execution_count": 19,
   "metadata": {},
   "outputs": [
    {
     "data": {
      "text/plain": [
       "5-element Array{Float64,1}:\n",
       " 1.0    \n",
       " 1.41421\n",
       " 1.73205\n",
       " 2.0    \n",
       " 2.23607"
      ]
     },
     "execution_count": 19,
     "metadata": {},
     "output_type": "execute_result"
    }
   ],
   "source": [
    "[sqrt(i) for i in 1:5]"
   ]
  },
  {
   "cell_type": "markdown",
   "metadata": {},
   "source": [
    "## Generators"
   ]
  },
  {
   "cell_type": "code",
   "execution_count": 18,
   "metadata": {},
   "outputs": [
    {
     "data": {
      "text/plain": [
       "4-element Array{Int64,1}:\n",
       " 21\n",
       " 42\n",
       " 63\n",
       " 84"
      ]
     },
     "execution_count": 18,
     "metadata": {},
     "output_type": "execute_result"
    }
   ],
   "source": [
    "collect(x for x in 1:100 if x%7==0 && x%3==0)"
   ]
  },
  {
   "cell_type": "markdown",
   "metadata": {},
   "source": [
    "Unlike comprehensions, the values are produced on demand."
   ]
  },
  {
   "cell_type": "markdown",
   "metadata": {},
   "source": [
    "## While"
   ]
  },
  {
   "cell_type": "code",
   "execution_count": 21,
   "metadata": {},
   "outputs": [
    {
     "name": "stdout",
     "output_type": "stream",
     "text": [
      "0.0\n",
      "1.0\n",
      "1.4142135623730951\n",
      "1.7320508075688772\n",
      "2.0\n"
     ]
    }
   ],
   "source": [
    "x=0\n",
    "while x<5 \n",
    "    println(sqrt(x))\n",
    "    x+=1\n",
    "end"
   ]
  },
  {
   "cell_type": "markdown",
   "metadata": {},
   "source": [
    "## Nested Loops"
   ]
  },
  {
   "cell_type": "markdown",
   "metadata": {},
   "source": [
    "Julia provides the most conveninet way to define nested loops. Loop statements are present as a tuple for `for` statement"
   ]
  },
  {
   "cell_type": "code",
   "execution_count": 26,
   "metadata": {},
   "outputs": [
    {
     "name": "stdout",
     "output_type": "stream",
     "text": [
      "(1, 1)\n",
      "(1, 2)\n",
      "(1, 3)\n",
      "(2, 1)\n",
      "(2, 2)\n",
      "(2, 3)\n",
      "(3, 1)\n",
      "(3, 2)\n",
      "(3, 3)\n"
     ]
    }
   ],
   "source": [
    "for x in 1:3,y in 1:3 \n",
    "    z = (x,y)\n",
    "    println(z)\n",
    "end"
   ]
  },
  {
   "cell_type": "code",
   "execution_count": 23,
   "metadata": {},
   "outputs": [
    {
     "name": "stdout",
     "output_type": "stream",
     "text": [
      "Length for vector (1,1,1) is 1.7320508075688772\n",
      "Length for vector (1,1,2) is 2.449489742783178\n",
      "Length for vector (1,2,1) is 2.449489742783178\n",
      "Length for vector (1,2,2) is 3.0\n",
      "Length for vector (1,3,1) is 3.3166247903554\n",
      "Length for vector (1,3,2) is 3.7416573867739413\n",
      "Length for vector (2,1,1) is 2.449489742783178\n",
      "Length for vector (2,1,2) is 3.0\n",
      "Length for vector (2,2,1) is 3.0\n",
      "Length for vector (2,2,2) is 3.4641016151377544\n",
      "Length for vector (2,3,1) is 3.7416573867739413\n",
      "Length for vector (2,3,2) is 4.123105625617661\n",
      "Length for vector (3,1,1) is 3.3166247903554\n",
      "Length for vector (3,1,2) is 3.7416573867739413\n",
      "Length for vector (3,2,1) is 3.7416573867739413\n",
      "Length for vector (3,2,2) is 4.123105625617661\n",
      "Length for vector (3,3,1) is 4.358898943540674\n",
      "Length for vector (3,3,2) is 4.69041575982343\n"
     ]
    }
   ],
   "source": [
    "for x in 1:3,y in 1:3, z in 1:2\n",
    "    distance = sqrt(x^2+y^2+z^2)\n",
    "    println(\"Length for vector ($x,$y,$z) is $distance\") \n",
    "end"
   ]
  },
  {
   "cell_type": "markdown",
   "metadata": {},
   "source": [
    "## do ... end"
   ]
  },
  {
   "cell_type": "code",
   "execution_count": null,
   "metadata": {
    "collapsed": true
   },
   "outputs": [],
   "source": []
  }
 ],
 "metadata": {
  "kernelspec": {
   "display_name": "Julia 0.6.0",
   "language": "julia",
   "name": "julia-0.6"
  },
  "language_info": {
   "file_extension": ".jl",
   "mimetype": "application/julia",
   "name": "julia",
   "version": "0.6.0"
  }
 },
 "nbformat": 4,
 "nbformat_minor": 2
}
